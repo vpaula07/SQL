{
 "cells": [
  {
   "cell_type": "markdown",
   "id": "massive-blind",
   "metadata": {},
   "source": [
    "## Leitura de dados"
   ]
  },
  {
   "cell_type": "code",
   "execution_count": 15,
   "id": "divided-fifteen",
   "metadata": {
    "ExecuteTime": {
     "end_time": "2022-09-25T23:19:22.471907Z",
     "start_time": "2022-09-25T23:19:22.462038Z"
    }
   },
   "outputs": [],
   "source": [
    "import sqlite3\n",
    "import random\n",
    "import time\n",
    "import datetime\n",
    "\n",
    "# Criando uma conexão\n",
    "conn = sqlite3.connect('dba.db')\n",
    "\n",
    "# Criando um cursor\n",
    "c = conn.cursor()\n",
    "\n",
    "# Função para criar uma tabela\n",
    "def create_table():\n",
    "    c.execute('CREATE TABLE IF NOT EXISTS produtos(id INTEGER PRIMARY KEY AUTOINCREMENT NOT NULL, date TEXT, '\\\n",
    "             'prod_name TEXT, valor REAL)')\n",
    "\n",
    "# Função para inserir uma linha\n",
    "def data_insert():\n",
    "    c.execute(\"INSERT INTO produtos VALUES('2022-09-09 12:12:46', 'Teclado', 130.00 )\")\n",
    "    conn.commit()\n",
    "    c.close()\n",
    "    conn.close()\n",
    "    \n",
    "# Usando variáveis para inserir dados\n",
    "def data_insert_var():\n",
    "    new_date = datetime.datetime.now()\n",
    "    new_prod_name = 'Monitor'\n",
    "    new_valor = random.randrange(50,100)\n",
    "    c.execute(\"INSERT INTO produtos (date, prod_name, valor) VALUES (?, ?, ?)\", (new_date, new_prod_name, new_valor))\n",
    "    conn.commit()\n",
    "    \n",
    "# Leitura de dados\n",
    "def leitura_todos_dados():\n",
    "    c.execute(\"SELECT * FROM PRODUTOS\")\n",
    "    for linha in c.fetchall():\n",
    "        print(linha)\n",
    "        \n",
    "# Leitura de registros específicos\n",
    "def leitura_registros():\n",
    "    c.execute(\"SELECT * FROM PRODUTOS WHERE valor > 60.00\")\n",
    "    for linha in c.fetchall():\n",
    "        print(linha)\n",
    "        \n",
    "# Leitura de colunas específicas\n",
    "def leitura_colunas():\n",
    "    c.execute(\"SELECT * FROM PRODUTOS\")\n",
    "    for linha in c.fetchall():\n",
    "        print(linha[3])\n",
    "        \n",
    "# Update\n",
    "def atualiza_dados():\n",
    "    c.execute(\"UPDATE produtos SET valor = 70.00 WHERE valor = 98.0\")\n",
    "    conn.commit()\n",
    "    \n",
    "# Delete\n",
    "def remove_dados():\n",
    "    c.execute(\"DELETE FROM produtos WHERE valor = 63.0\")\n",
    "    conn.commit()"
   ]
  },
  {
   "cell_type": "code",
   "execution_count": 16,
   "id": "uniform-member",
   "metadata": {
    "ExecuteTime": {
     "end_time": "2022-09-25T23:19:33.929361Z",
     "start_time": "2022-09-25T23:19:33.877508Z"
    }
   },
   "outputs": [],
   "source": [
    "atualiza_dados()"
   ]
  },
  {
   "cell_type": "code",
   "execution_count": 17,
   "id": "through-salvation",
   "metadata": {
    "ExecuteTime": {
     "end_time": "2022-09-25T23:19:45.747094Z",
     "start_time": "2022-09-25T23:19:45.733343Z"
    }
   },
   "outputs": [
    {
     "name": "stdout",
     "output_type": "stream",
     "text": [
      "(10, '2020-05-02 14:32:11', 'Teclado', 90.0)\n",
      "(11, '2022-09-25 19:48:05.750928', 'Monitor', 97.0)\n",
      "(12, '2022-09-25 19:48:06.842790', 'Monitor', 70.0)\n",
      "(13, '2022-09-25 19:48:07.924209', 'Monitor', 61.0)\n",
      "(14, '2022-09-25 19:48:08.972956', 'Monitor', 56.0)\n",
      "(15, '2022-09-25 19:48:10.019945', 'Monitor', 90.0)\n",
      "(16, '2022-09-25 19:48:11.067499', 'Monitor', 73.0)\n",
      "(17, '2022-09-25 19:48:12.114678', 'Monitor', 66.0)\n",
      "(18, '2022-09-25 19:48:13.164969', 'Monitor', 63.0)\n",
      "(19, '2022-09-25 19:48:14.212713', 'Monitor', 74.0)\n",
      "(20, '2022-09-25 19:48:15.259829', 'Monitor', 83.0)\n"
     ]
    }
   ],
   "source": [
    "leitura_todos_dados()"
   ]
  },
  {
   "cell_type": "code",
   "execution_count": 18,
   "id": "arbitrary-moral",
   "metadata": {
    "ExecuteTime": {
     "end_time": "2022-09-25T23:20:17.597962Z",
     "start_time": "2022-09-25T23:20:17.519024Z"
    }
   },
   "outputs": [],
   "source": [
    "remove_dados()"
   ]
  },
  {
   "cell_type": "code",
   "execution_count": 19,
   "id": "flexible-enough",
   "metadata": {
    "ExecuteTime": {
     "end_time": "2022-09-25T23:20:31.448200Z",
     "start_time": "2022-09-25T23:20:31.438498Z"
    }
   },
   "outputs": [
    {
     "name": "stdout",
     "output_type": "stream",
     "text": [
      "(10, '2020-05-02 14:32:11', 'Teclado', 90.0)\n",
      "(11, '2022-09-25 19:48:05.750928', 'Monitor', 97.0)\n",
      "(12, '2022-09-25 19:48:06.842790', 'Monitor', 70.0)\n",
      "(13, '2022-09-25 19:48:07.924209', 'Monitor', 61.0)\n",
      "(14, '2022-09-25 19:48:08.972956', 'Monitor', 56.0)\n",
      "(15, '2022-09-25 19:48:10.019945', 'Monitor', 90.0)\n",
      "(16, '2022-09-25 19:48:11.067499', 'Monitor', 73.0)\n",
      "(17, '2022-09-25 19:48:12.114678', 'Monitor', 66.0)\n",
      "(19, '2022-09-25 19:48:14.212713', 'Monitor', 74.0)\n",
      "(20, '2022-09-25 19:48:15.259829', 'Monitor', 83.0)\n"
     ]
    }
   ],
   "source": [
    "leitura_todos_dados()"
   ]
  },
  {
   "cell_type": "code",
   "execution_count": null,
   "id": "curious-testament",
   "metadata": {},
   "outputs": [],
   "source": []
  }
 ],
 "metadata": {
  "hide_input": false,
  "kernelspec": {
   "display_name": "Python 3",
   "language": "python",
   "name": "python3"
  },
  "language_info": {
   "codemirror_mode": {
    "name": "ipython",
    "version": 3
   },
   "file_extension": ".py",
   "mimetype": "text/x-python",
   "name": "python",
   "nbconvert_exporter": "python",
   "pygments_lexer": "ipython3",
   "version": "3.9.2"
  }
 },
 "nbformat": 4,
 "nbformat_minor": 5
}
