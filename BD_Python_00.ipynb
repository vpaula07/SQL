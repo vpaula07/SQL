{
 "cells": [
  {
   "cell_type": "code",
   "execution_count": 2,
   "id": "fifteen-diabetes",
   "metadata": {
    "ExecuteTime": {
     "end_time": "2022-09-25T21:06:05.424844Z",
     "start_time": "2022-09-25T21:06:05.419020Z"
    }
   },
   "outputs": [
    {
     "name": "stdout",
     "output_type": "stream",
     "text": [
      "Versão da Linguagem Python usada: 3.9.2\n"
     ]
    }
   ],
   "source": [
    "# Versão da Linguagem Python\n",
    "from platform import python_version\n",
    "print('Versão da Linguagem Python usada:', python_version())"
   ]
  },
  {
   "cell_type": "markdown",
   "id": "understood-prospect",
   "metadata": {},
   "source": [
    "## Acessando Banco de Dados com Python"
   ]
  },
  {
   "cell_type": "code",
   "execution_count": 3,
   "id": "published-twist",
   "metadata": {
    "ExecuteTime": {
     "end_time": "2022-09-25T21:07:46.056988Z",
     "start_time": "2022-09-25T21:07:46.050023Z"
    }
   },
   "outputs": [],
   "source": [
    "# Remove o arquivo com banco de dados SQLite (caos exista)\n",
    "import os\n",
    "os.remove(\"escola.db\") if os.path.exists(\"escola.db\") else None"
   ]
  },
  {
   "cell_type": "code",
   "execution_count": 4,
   "id": "hired-stable",
   "metadata": {
    "ExecuteTime": {
     "end_time": "2022-09-25T21:08:10.546894Z",
     "start_time": "2022-09-25T21:08:10.540312Z"
    }
   },
   "outputs": [],
   "source": [
    "# Importando o módulo de acesso as SQLite\n",
    "import sqlite3"
   ]
  },
  {
   "cell_type": "code",
   "execution_count": 5,
   "id": "angry-local",
   "metadata": {
    "ExecuteTime": {
     "end_time": "2022-09-25T21:09:21.276989Z",
     "start_time": "2022-09-25T21:09:21.268883Z"
    }
   },
   "outputs": [],
   "source": [
    "# Cria uma conexão com o banco de dados\n",
    "# Se o banco de dados não existir,ele é criado neste momento\n",
    "con =  sqlite3.connect('escola.db')"
   ]
  },
  {
   "cell_type": "code",
   "execution_count": 6,
   "id": "deadly-editor",
   "metadata": {
    "ExecuteTime": {
     "end_time": "2022-09-25T21:09:28.630341Z",
     "start_time": "2022-09-25T21:09:28.604053Z"
    }
   },
   "outputs": [
    {
     "data": {
      "text/plain": [
       "sqlite3.Connection"
      ]
     },
     "execution_count": 6,
     "metadata": {},
     "output_type": "execute_result"
    }
   ],
   "source": [
    "type(con)"
   ]
  },
  {
   "cell_type": "code",
   "execution_count": 8,
   "id": "conventional-geometry",
   "metadata": {
    "ExecuteTime": {
     "end_time": "2022-09-25T21:10:55.338563Z",
     "start_time": "2022-09-25T21:10:55.335152Z"
    }
   },
   "outputs": [],
   "source": [
    "# Criando um cursor - um cursor permite percorrer todos os registros em um conjunto de dados\n",
    "cur = con.cursor()"
   ]
  },
  {
   "cell_type": "code",
   "execution_count": 9,
   "id": "wired-journal",
   "metadata": {
    "ExecuteTime": {
     "end_time": "2022-09-25T21:11:14.033558Z",
     "start_time": "2022-09-25T21:11:14.021971Z"
    }
   },
   "outputs": [
    {
     "data": {
      "text/plain": [
       "sqlite3.Cursor"
      ]
     },
     "execution_count": 9,
     "metadata": {},
     "output_type": "execute_result"
    }
   ],
   "source": [
    "type(cur)"
   ]
  },
  {
   "cell_type": "code",
   "execution_count": 10,
   "id": "seven-hawaiian",
   "metadata": {
    "ExecuteTime": {
     "end_time": "2022-09-25T21:13:04.349306Z",
     "start_time": "2022-09-25T21:13:04.346372Z"
    }
   },
   "outputs": [],
   "source": [
    "# Cria uma instrução sql\n",
    "sql_create = 'create table cursos '\\\n",
    "'(id integer primary key, '\\\n",
    "'titulo varchar(100), '\\\n",
    "'categoria varchar(140))'"
   ]
  },
  {
   "cell_type": "code",
   "execution_count": 11,
   "id": "derived-surveillance",
   "metadata": {
    "ExecuteTime": {
     "end_time": "2022-09-25T21:13:34.655900Z",
     "start_time": "2022-09-25T21:13:34.517812Z"
    }
   },
   "outputs": [
    {
     "data": {
      "text/plain": [
       "<sqlite3.Cursor at 0x7f783c6c3b90>"
      ]
     },
     "execution_count": 11,
     "metadata": {},
     "output_type": "execute_result"
    }
   ],
   "source": [
    "# Executando a instrução sql no cursor\n",
    "cur.execute(sql_create)"
   ]
  },
  {
   "cell_type": "code",
   "execution_count": 12,
   "id": "abandoned-vertical",
   "metadata": {
    "ExecuteTime": {
     "end_time": "2022-09-25T21:14:41.908345Z",
     "start_time": "2022-09-25T21:14:41.901310Z"
    }
   },
   "outputs": [],
   "source": [
    "# Criando outra sentença SQL para inserir registros\n",
    "sql_insert = 'insert into cursos values (?, ?, ?)'"
   ]
  },
  {
   "cell_type": "code",
   "execution_count": 13,
   "id": "premier-falls",
   "metadata": {
    "ExecuteTime": {
     "end_time": "2022-09-25T21:16:10.706956Z",
     "start_time": "2022-09-25T21:16:10.695440Z"
    }
   },
   "outputs": [],
   "source": [
    "# Dados\n",
    "recset = [(1000, 'Ciência de Dados', 'Data Science'),\n",
    "         (1001, 'Big Data Fundamentos', 'Big Data'),\n",
    "         (1002, 'Python Fundamentos', 'Análise de Dados')]"
   ]
  },
  {
   "cell_type": "code",
   "execution_count": 14,
   "id": "distinguished-watch",
   "metadata": {
    "ExecuteTime": {
     "end_time": "2022-09-25T21:19:56.679912Z",
     "start_time": "2022-09-25T21:19:56.670757Z"
    }
   },
   "outputs": [],
   "source": [
    "# Inserindo os registros\n",
    "for rec in recset:\n",
    "    cur.execute(sql_insert, rec)"
   ]
  },
  {
   "cell_type": "code",
   "execution_count": 15,
   "id": "alien-sheep",
   "metadata": {
    "ExecuteTime": {
     "end_time": "2022-09-25T21:20:14.010927Z",
     "start_time": "2022-09-25T21:20:13.920107Z"
    }
   },
   "outputs": [],
   "source": [
    "# Grava a transação\n",
    "con.commit()"
   ]
  },
  {
   "cell_type": "code",
   "execution_count": 16,
   "id": "limited-mission",
   "metadata": {
    "ExecuteTime": {
     "end_time": "2022-09-25T21:20:55.108059Z",
     "start_time": "2022-09-25T21:20:55.103664Z"
    }
   },
   "outputs": [],
   "source": [
    "# Criando outra setença SQL para selecionar registros\n",
    "sql_select = 'select * from cursos'"
   ]
  },
  {
   "cell_type": "code",
   "execution_count": 17,
   "id": "international-honduras",
   "metadata": {
    "ExecuteTime": {
     "end_time": "2022-09-25T21:21:43.680781Z",
     "start_time": "2022-09-25T21:21:43.671289Z"
    }
   },
   "outputs": [],
   "source": [
    "# Seleciona todos os registros e recupera os registros\n",
    "cur.execute(sql_select)\n",
    "dados = cur.fetchall()"
   ]
  },
  {
   "cell_type": "code",
   "execution_count": 18,
   "id": "automatic-commons",
   "metadata": {
    "ExecuteTime": {
     "end_time": "2022-09-25T21:22:43.593517Z",
     "start_time": "2022-09-25T21:22:43.583511Z"
    }
   },
   "outputs": [
    {
     "name": "stdout",
     "output_type": "stream",
     "text": [
      "Curso Id: 1000, Título: Ciência de Dados, Categoria: Data Science \n",
      "\n",
      "Curso Id: 1001, Título: Big Data Fundamentos, Categoria: Big Data \n",
      "\n",
      "Curso Id: 1002, Título: Python Fundamentos, Categoria: Análise de Dados \n",
      "\n"
     ]
    }
   ],
   "source": [
    "# Mostra \n",
    "for linha in dados:\n",
    "    print('Curso Id: %d, Título: %s, Categoria: %s \\n' % linha)"
   ]
  },
  {
   "cell_type": "code",
   "execution_count": 21,
   "id": "gross-philosophy",
   "metadata": {
    "ExecuteTime": {
     "end_time": "2022-09-25T21:26:03.961724Z",
     "start_time": "2022-09-25T21:26:03.886467Z"
    }
   },
   "outputs": [],
   "source": [
    "# Gerando outros registros\n",
    "recset = [(1003, 'Gestão de Dados com MongoDB', 'Big Data'),\n",
    "         (1004, 'R Fundamentos', 'Análise de Dados')]\n",
    "\n",
    "# Inserindo os registros\n",
    "for rec in recset:\n",
    "    cur.execute(sql_insert, rec)\n",
    "    \n",
    "# Gravando a transação\n",
    "con.commit()"
   ]
  },
  {
   "cell_type": "code",
   "execution_count": 22,
   "id": "resistant-health",
   "metadata": {
    "ExecuteTime": {
     "end_time": "2022-09-25T21:28:08.305950Z",
     "start_time": "2022-09-25T21:28:08.289880Z"
    }
   },
   "outputs": [
    {
     "name": "stdout",
     "output_type": "stream",
     "text": [
      "Curso Id: 1000, Título: Ciência de Dados, Categoria: Data Science \n",
      "\n",
      "Curso Id: 1001, Título: Big Data Fundamentos, Categoria: Big Data \n",
      "\n",
      "Curso Id: 1002, Título: Python Fundamentos, Categoria: Análise de Dados \n",
      "\n",
      "Curso Id: 1003, Título: Gestão de Dados com MongoDB, Categoria: Big Data \n",
      "\n",
      "Curso Id: 1004, Título: R Fundamentos, Categoria: Análise de Dados \n",
      "\n"
     ]
    }
   ],
   "source": [
    "# Seleciona todos os registros\n",
    "cur.execute('select * from cursos')\n",
    "\n",
    "# Recupera os resultados\n",
    "recset = cur.fetchall()\n",
    "\n",
    "# Mostra\n",
    "for rec in recset:\n",
    "    print('Curso Id: %d, Título: %s, Categoria: %s \\n' % rec)    "
   ]
  },
  {
   "cell_type": "code",
   "execution_count": 23,
   "id": "frequent-lucas",
   "metadata": {
    "ExecuteTime": {
     "end_time": "2022-09-25T21:28:37.353825Z",
     "start_time": "2022-09-25T21:28:37.346393Z"
    }
   },
   "outputs": [],
   "source": [
    "# Fecha conexão\n",
    "con.close()"
   ]
  },
  {
   "cell_type": "code",
   "execution_count": null,
   "id": "hazardous-welding",
   "metadata": {},
   "outputs": [],
   "source": []
  }
 ],
 "metadata": {
  "hide_input": false,
  "kernelspec": {
   "display_name": "Python 3",
   "language": "python",
   "name": "python3"
  },
  "language_info": {
   "codemirror_mode": {
    "name": "ipython",
    "version": 3
   },
   "file_extension": ".py",
   "mimetype": "text/x-python",
   "name": "python",
   "nbconvert_exporter": "python",
   "pygments_lexer": "ipython3",
   "version": "3.9.2"
  }
 },
 "nbformat": 4,
 "nbformat_minor": 5
}
