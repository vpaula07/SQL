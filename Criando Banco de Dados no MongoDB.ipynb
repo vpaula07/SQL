{
 "cells": [
  {
   "cell_type": "markdown",
   "id": "separate-angle",
   "metadata": {},
   "source": [
    "# Gravando Dados no MongoDB com PyMongo"
   ]
  },
  {
   "cell_type": "code",
   "execution_count": 1,
   "id": "direct-brown",
   "metadata": {
    "ExecuteTime": {
     "end_time": "2022-10-04T22:48:56.162466Z",
     "start_time": "2022-10-04T22:48:50.992574Z"
    }
   },
   "outputs": [],
   "source": [
    "# Instala o pacote pymongo para conectar no banco de dados MongoDB\n",
    "!pip install -q pymongo"
   ]
  },
  {
   "cell_type": "code",
   "execution_count": 2,
   "id": "acoustic-backup",
   "metadata": {
    "ExecuteTime": {
     "end_time": "2022-10-04T22:48:59.927488Z",
     "start_time": "2022-10-04T22:48:59.110311Z"
    }
   },
   "outputs": [],
   "source": [
    "# Impotamos o MongoClient para conectar nossa aplicação ao MongoDB\n",
    "from pymongo import MongoClient"
   ]
  },
  {
   "cell_type": "code",
   "execution_count": 3,
   "id": "twelve-modem",
   "metadata": {
    "ExecuteTime": {
     "end_time": "2022-10-04T22:49:03.832424Z",
     "start_time": "2022-10-04T22:49:03.294248Z"
    }
   },
   "outputs": [],
   "source": [
    "# Estabelecemos a conexão ao Banco Dados\n",
    "conn = MongoClient('localhost', 27017)"
   ]
  },
  {
   "cell_type": "code",
   "execution_count": 4,
   "id": "coral-angle",
   "metadata": {
    "ExecuteTime": {
     "end_time": "2022-10-04T22:49:06.740519Z",
     "start_time": "2022-10-04T22:49:06.711155Z"
    }
   },
   "outputs": [
    {
     "data": {
      "text/plain": [
       "pymongo.mongo_client.MongoClient"
      ]
     },
     "execution_count": 4,
     "metadata": {},
     "output_type": "execute_result"
    }
   ],
   "source": [
    "type(conn)"
   ]
  },
  {
   "cell_type": "code",
   "execution_count": 5,
   "id": "british-storage",
   "metadata": {
    "ExecuteTime": {
     "end_time": "2022-10-04T22:49:09.224236Z",
     "start_time": "2022-10-04T22:49:09.216306Z"
    }
   },
   "outputs": [],
   "source": [
    "# Uma única instância do MongoDB pode suportar diversos banco de dados.\n",
    "# Vamos criar o banco de dados cadastrodb\n",
    "db = conn.cadastrodb"
   ]
  },
  {
   "cell_type": "code",
   "execution_count": 6,
   "id": "supposed-power",
   "metadata": {
    "ExecuteTime": {
     "end_time": "2022-10-04T22:49:12.330915Z",
     "start_time": "2022-10-04T22:49:12.318870Z"
    }
   },
   "outputs": [
    {
     "data": {
      "text/plain": [
       "pymongo.database.Database"
      ]
     },
     "execution_count": 6,
     "metadata": {},
     "output_type": "execute_result"
    }
   ],
   "source": [
    "type(db)"
   ]
  },
  {
   "cell_type": "code",
   "execution_count": 7,
   "id": "civic-celebrity",
   "metadata": {
    "ExecuteTime": {
     "end_time": "2022-10-04T22:49:14.541874Z",
     "start_time": "2022-10-04T22:49:14.533821Z"
    }
   },
   "outputs": [],
   "source": [
    "# Uma coleção é um grupo de documentos armazenados no MongoDB\n",
    "# (relativamente parecido com o conceito de tabelas em banco relacionais)\n",
    "collection = db.cadastrodb"
   ]
  },
  {
   "cell_type": "code",
   "execution_count": 8,
   "id": "numeric-abraham",
   "metadata": {
    "ExecuteTime": {
     "end_time": "2022-10-04T22:49:17.414358Z",
     "start_time": "2022-10-04T22:49:17.404241Z"
    }
   },
   "outputs": [
    {
     "data": {
      "text/plain": [
       "pymongo.collection.Collection"
      ]
     },
     "execution_count": 8,
     "metadata": {},
     "output_type": "execute_result"
    }
   ],
   "source": [
    "type(collection)"
   ]
  },
  {
   "cell_type": "markdown",
   "id": "special-fantasy",
   "metadata": {},
   "source": [
    "### Nota importante sobre coleções (e bancos de dados) no MongoDB é que eles são criados posteriormente -  nenhum dos comandos acima executou efetivamente qualquer operação no servidor MongoDB. Coleções e bancos de dados são criados quando o primeiro documento é inserido."
   ]
  },
  {
   "cell_type": "code",
   "execution_count": 9,
   "id": "italian-chrome",
   "metadata": {
    "ExecuteTime": {
     "end_time": "2022-10-04T22:49:20.846798Z",
     "start_time": "2022-10-04T22:49:20.838804Z"
    }
   },
   "outputs": [],
   "source": [
    "import datetime"
   ]
  },
  {
   "cell_type": "markdown",
   "id": "african-shaft",
   "metadata": {},
   "source": [
    "### Dados no MongoDB são representados (e armazenados) usando documentos JSON (Java Script Object Notation). Com o PyMongo usamos dicionários para representar documentos."
   ]
  },
  {
   "cell_type": "code",
   "execution_count": 11,
   "id": "collectible-advantage",
   "metadata": {
    "ExecuteTime": {
     "end_time": "2022-10-04T22:52:42.463222Z",
     "start_time": "2022-10-04T22:52:42.459764Z"
    }
   },
   "outputs": [],
   "source": [
    "post1 = {\"codigo\": \"ID-9987725\",\n",
    "         \"prod_name\": \"Geladeira\",\n",
    "         \"marcas\": [\"brastemp\", \"consul\", \"electrolux\"],\n",
    "         \"data_cadastro\": datetime.datetime.utcnow()}"
   ]
  },
  {
   "cell_type": "code",
   "execution_count": 12,
   "id": "failing-subscriber",
   "metadata": {
    "ExecuteTime": {
     "end_time": "2022-10-04T22:52:51.963781Z",
     "start_time": "2022-10-04T22:52:51.952554Z"
    }
   },
   "outputs": [
    {
     "data": {
      "text/plain": [
       "dict"
      ]
     },
     "execution_count": 12,
     "metadata": {},
     "output_type": "execute_result"
    }
   ],
   "source": [
    "type(post1)"
   ]
  },
  {
   "cell_type": "code",
   "execution_count": 13,
   "id": "based-cancer",
   "metadata": {
    "ExecuteTime": {
     "end_time": "2022-10-04T22:53:11.518062Z",
     "start_time": "2022-10-04T22:53:11.510783Z"
    }
   },
   "outputs": [],
   "source": [
    "collection = db.posts"
   ]
  },
  {
   "cell_type": "code",
   "execution_count": 14,
   "id": "civil-spectrum",
   "metadata": {
    "ExecuteTime": {
     "end_time": "2022-10-04T22:53:34.990263Z",
     "start_time": "2022-10-04T22:53:34.194290Z"
    }
   },
   "outputs": [],
   "source": [
    "post_id = collection.insert_one(post1)"
   ]
  },
  {
   "cell_type": "code",
   "execution_count": 15,
   "id": "marine-oliver",
   "metadata": {
    "ExecuteTime": {
     "end_time": "2022-10-04T22:53:47.092284Z",
     "start_time": "2022-10-04T22:53:47.080976Z"
    }
   },
   "outputs": [
    {
     "data": {
      "text/plain": [
       "ObjectId('633cb96e2f7d5ff8c55c7807')"
      ]
     },
     "execution_count": 15,
     "metadata": {},
     "output_type": "execute_result"
    }
   ],
   "source": [
    "post_id.inserted_id"
   ]
  },
  {
   "cell_type": "code",
   "execution_count": 16,
   "id": "bulgarian-client",
   "metadata": {
    "ExecuteTime": {
     "end_time": "2022-10-04T22:55:10.375499Z",
     "start_time": "2022-10-04T22:55:10.362973Z"
    }
   },
   "outputs": [
    {
     "data": {
      "text/plain": [
       "<pymongo.results.InsertOneResult at 0x7f5b7c9aae20>"
      ]
     },
     "execution_count": 16,
     "metadata": {},
     "output_type": "execute_result"
    }
   ],
   "source": [
    "# Quando um documento é inserido uma chave especial, \"_id\", é adicionada\n",
    "# automaticamente se o documento ainda não contém uma chave \"_id\".\n",
    "post_id"
   ]
  },
  {
   "cell_type": "code",
   "execution_count": 17,
   "id": "checked-village",
   "metadata": {
    "ExecuteTime": {
     "end_time": "2022-10-04T22:57:00.075955Z",
     "start_time": "2022-10-04T22:57:00.067158Z"
    }
   },
   "outputs": [],
   "source": [
    "post2 = {\"codigo\": \"ID-2209876\",\n",
    "        \"prod_name\": \"Televisor\",\n",
    "        \"marcas\": [\"Samsung\", \"Panasonic\", \"LG\"],\n",
    "        \"data_cadastro\": datetime.datetime.utcnow()}"
   ]
  },
  {
   "cell_type": "code",
   "execution_count": 18,
   "id": "visible-cemetery",
   "metadata": {
    "ExecuteTime": {
     "end_time": "2022-10-04T22:57:11.762288Z",
     "start_time": "2022-10-04T22:57:11.755000Z"
    }
   },
   "outputs": [],
   "source": [
    "collection = db.posts"
   ]
  },
  {
   "cell_type": "code",
   "execution_count": 19,
   "id": "afraid-minute",
   "metadata": {
    "ExecuteTime": {
     "end_time": "2022-10-04T22:57:47.207954Z",
     "start_time": "2022-10-04T22:57:47.197054Z"
    }
   },
   "outputs": [],
   "source": [
    "post_id = collection.insert_one(post2).inserted_id"
   ]
  },
  {
   "cell_type": "code",
   "execution_count": 20,
   "id": "incomplete-stations",
   "metadata": {
    "ExecuteTime": {
     "end_time": "2022-10-04T22:57:53.842860Z",
     "start_time": "2022-10-04T22:57:53.831938Z"
    }
   },
   "outputs": [
    {
     "data": {
      "text/plain": [
       "ObjectId('633cba6b2f7d5ff8c55c7808')"
      ]
     },
     "execution_count": 20,
     "metadata": {},
     "output_type": "execute_result"
    }
   ],
   "source": [
    "post_id"
   ]
  },
  {
   "cell_type": "code",
   "execution_count": 21,
   "id": "inclusive-girlfriend",
   "metadata": {
    "ExecuteTime": {
     "end_time": "2022-10-04T22:58:24.350968Z",
     "start_time": "2022-10-04T22:58:24.150459Z"
    }
   },
   "outputs": [
    {
     "data": {
      "text/plain": [
       "{'_id': ObjectId('633cba6b2f7d5ff8c55c7808'),\n",
       " 'codigo': 'ID-2209876',\n",
       " 'prod_name': 'Televisor',\n",
       " 'marcas': ['Samsung', 'Panasonic', 'LG'],\n",
       " 'data_cadastro': datetime.datetime(2022, 10, 4, 22, 57, 0, 71000)}"
      ]
     },
     "execution_count": 21,
     "metadata": {},
     "output_type": "execute_result"
    }
   ],
   "source": [
    "collection.find_one({\"prod_name\": \"Televisor\"})"
   ]
  },
  {
   "cell_type": "code",
   "execution_count": 22,
   "id": "limited-excitement",
   "metadata": {
    "ExecuteTime": {
     "end_time": "2022-10-04T22:59:28.585996Z",
     "start_time": "2022-10-04T22:59:28.574763Z"
    }
   },
   "outputs": [
    {
     "name": "stdout",
     "output_type": "stream",
     "text": [
      "{'_id': ObjectId('633cb96e2f7d5ff8c55c7807'), 'codigo': 'ID-9987725', 'prod_name': 'Geladeira', 'marcas': ['brastemp', 'consul', 'electrolux'], 'data_cadastro': datetime.datetime(2022, 10, 4, 22, 52, 42, 461000)}\n",
      "{'_id': ObjectId('633cba6b2f7d5ff8c55c7808'), 'codigo': 'ID-2209876', 'prod_name': 'Televisor', 'marcas': ['Samsung', 'Panasonic', 'LG'], 'data_cadastro': datetime.datetime(2022, 10, 4, 22, 57, 0, 71000)}\n"
     ]
    }
   ],
   "source": [
    "# A função find() retorna o cursor e podemos então navegar pelos dados\n",
    "for post in collection.find():\n",
    "    print(post)"
   ]
  },
  {
   "cell_type": "code",
   "execution_count": 23,
   "id": "fifteen-birthday",
   "metadata": {
    "ExecuteTime": {
     "end_time": "2022-10-04T22:59:57.865491Z",
     "start_time": "2022-10-04T22:59:57.854882Z"
    }
   },
   "outputs": [
    {
     "data": {
      "text/plain": [
       "'cadastrodb'"
      ]
     },
     "execution_count": 23,
     "metadata": {},
     "output_type": "execute_result"
    }
   ],
   "source": [
    "# Verificando o nome do banco de dados\n",
    "db.name"
   ]
  },
  {
   "cell_type": "code",
   "execution_count": 24,
   "id": "governmental-foster",
   "metadata": {
    "ExecuteTime": {
     "end_time": "2022-10-04T23:00:49.884608Z",
     "start_time": "2022-10-04T23:00:49.869109Z"
    }
   },
   "outputs": [
    {
     "data": {
      "text/plain": [
       "['posts']"
      ]
     },
     "execution_count": 24,
     "metadata": {},
     "output_type": "execute_result"
    }
   ],
   "source": [
    "# Listando as coleções disponíveis\n",
    "# db.collection_nammes()\n",
    "db.list_collection_names()"
   ]
  },
  {
   "cell_type": "code",
   "execution_count": 25,
   "id": "divided-edinburgh",
   "metadata": {
    "ExecuteTime": {
     "end_time": "2022-10-04T23:06:50.122542Z",
     "start_time": "2022-10-04T23:06:49.777400Z"
    }
   },
   "outputs": [
    {
     "data": {
      "text/plain": [
       "Collection(Database(MongoClient(host=['localhost:27017'], document_class=dict, tz_aware=False, connect=True), 'cadastrodb'), 'mycollection')"
      ]
     },
     "execution_count": 25,
     "metadata": {},
     "output_type": "execute_result"
    }
   ],
   "source": [
    "# Criando uma coleção\n",
    "db.create_collection(\"mycollection\")"
   ]
  },
  {
   "cell_type": "code",
   "execution_count": 26,
   "id": "sapphire-retro",
   "metadata": {
    "ExecuteTime": {
     "end_time": "2022-10-04T23:07:38.993789Z",
     "start_time": "2022-10-04T23:07:38.979980Z"
    }
   },
   "outputs": [
    {
     "data": {
      "text/plain": [
       "['posts', 'mycollection']"
      ]
     },
     "execution_count": 26,
     "metadata": {},
     "output_type": "execute_result"
    }
   ],
   "source": [
    "# listando as coleções disponíveis\n",
    "# db.collection_names()\n",
    "db.list_collection_names()"
   ]
  },
  {
   "cell_type": "code",
   "execution_count": 27,
   "id": "ultimate-receiver",
   "metadata": {
    "ExecuteTime": {
     "end_time": "2022-10-04T23:10:30.307304Z",
     "start_time": "2022-10-04T23:10:30.287895Z"
    }
   },
   "outputs": [
    {
     "data": {
      "text/plain": [
       "<pymongo.results.InsertOneResult at 0x7f5b7c9aa670>"
      ]
     },
     "execution_count": 27,
     "metadata": {},
     "output_type": "execute_result"
    }
   ],
   "source": [
    "# Inserindo um documento na coleção criada\n",
    "db.mycollection.insert_one({\n",
    "    'titulo':'MongoDB com Python',\n",
    "    'descricao': 'MongoDB é um Banco de Dados NoSQL',\n",
    "    'by': 'Data Science',\n",
    "    'url': 'https://www.datascience.com',\n",
    "    'tags':['mongodb', 'database', 'NoSQL'],\n",
    "    'likes': 100\n",
    "})"
   ]
  },
  {
   "cell_type": "code",
   "execution_count": 28,
   "id": "precise-montgomery",
   "metadata": {
    "ExecuteTime": {
     "end_time": "2022-10-04T23:11:11.272423Z",
     "start_time": "2022-10-04T23:11:11.257309Z"
    }
   },
   "outputs": [
    {
     "data": {
      "text/plain": [
       "{'_id': ObjectId('633cbd662f7d5ff8c55c7809'),\n",
       " 'titulo': 'MongoDB com Python',\n",
       " 'descricao': 'MongoDB é um Banco de Dados NoSQL',\n",
       " 'by': 'Data Science',\n",
       " 'url': 'https://www.datascience.com',\n",
       " 'tags': ['mongodb', 'database', 'NoSQL'],\n",
       " 'likes': 100}"
      ]
     },
     "execution_count": 28,
     "metadata": {},
     "output_type": "execute_result"
    }
   ],
   "source": [
    "# Retornando o documento criado\n",
    "db.mycollection.find_one()"
   ]
  },
  {
   "cell_type": "code",
   "execution_count": 29,
   "id": "alternate-lending",
   "metadata": {
    "ExecuteTime": {
     "end_time": "2022-10-04T23:12:35.242787Z",
     "start_time": "2022-10-04T23:12:35.233219Z"
    }
   },
   "outputs": [],
   "source": [
    "# Preparando um documento\n",
    "doc1 = {\"Nome\": \"Donald\", \"sobrenome\": \"Trump\", \"twitter\":\"@POTUS\"}"
   ]
  },
  {
   "cell_type": "code",
   "execution_count": 30,
   "id": "urban-basis",
   "metadata": {
    "ExecuteTime": {
     "end_time": "2022-10-04T23:13:06.772945Z",
     "start_time": "2022-10-04T23:13:06.759823Z"
    }
   },
   "outputs": [
    {
     "data": {
      "text/plain": [
       "<pymongo.results.InsertOneResult at 0x7f5b7c9aa4f0>"
      ]
     },
     "execution_count": 30,
     "metadata": {},
     "output_type": "execute_result"
    }
   ],
   "source": [
    "# Inserindo um documento\n",
    "db.mycollection.insert_one(doc1)"
   ]
  },
  {
   "cell_type": "code",
   "execution_count": 31,
   "id": "thorough-sapphire",
   "metadata": {
    "ExecuteTime": {
     "end_time": "2022-10-04T23:14:24.558729Z",
     "start_time": "2022-10-04T23:14:24.548918Z"
    }
   },
   "outputs": [],
   "source": [
    "# Preparando um documento\n",
    "doc2 = {\"Site\":\"https://www.datascience.com\",\n",
    "       \"facebook\":\"facebook.com/datascience\"}"
   ]
  },
  {
   "cell_type": "code",
   "execution_count": 32,
   "id": "catholic-praise",
   "metadata": {
    "ExecuteTime": {
     "end_time": "2022-10-04T23:14:48.435595Z",
     "start_time": "2022-10-04T23:14:48.421963Z"
    }
   },
   "outputs": [
    {
     "data": {
      "text/plain": [
       "<pymongo.results.InsertOneResult at 0x7f5b84057d60>"
      ]
     },
     "execution_count": 32,
     "metadata": {},
     "output_type": "execute_result"
    }
   ],
   "source": [
    "# Inserindo um documento\n",
    "db.mycollection.insert_one(doc2)"
   ]
  },
  {
   "cell_type": "code",
   "execution_count": 33,
   "id": "searching-plain",
   "metadata": {
    "ExecuteTime": {
     "end_time": "2022-10-04T23:15:36.432922Z",
     "start_time": "2022-10-04T23:15:36.419908Z"
    }
   },
   "outputs": [
    {
     "name": "stdout",
     "output_type": "stream",
     "text": [
      "{'_id': ObjectId('633cbd662f7d5ff8c55c7809'), 'titulo': 'MongoDB com Python', 'descricao': 'MongoDB é um Banco de Dados NoSQL', 'by': 'Data Science', 'url': 'https://www.datascience.com', 'tags': ['mongodb', 'database', 'NoSQL'], 'likes': 100}\n",
      "{'_id': ObjectId('633cbe022f7d5ff8c55c780a'), 'Nome': 'Donald', 'sobrenome': 'Trump', 'twitter': '@POTUS'}\n",
      "{'_id': ObjectId('633cbe682f7d5ff8c55c780b'), 'Site': 'https://www.datascience.com', 'facebook': 'facebook.com/datascience'}\n"
     ]
    }
   ],
   "source": [
    "# Retornando os documentos na coleção\n",
    "for rec in db.mycollection.find():\n",
    "    print(rec)"
   ]
  },
  {
   "cell_type": "code",
   "execution_count": 34,
   "id": "brutal-hygiene",
   "metadata": {
    "ExecuteTime": {
     "end_time": "2022-10-04T23:16:12.020390Z",
     "start_time": "2022-10-04T23:16:12.013351Z"
    }
   },
   "outputs": [],
   "source": [
    "# Conectando a uma coleção\n",
    "col = db[\"mycollection\"]"
   ]
  },
  {
   "cell_type": "code",
   "execution_count": 35,
   "id": "threaded-princeton",
   "metadata": {
    "ExecuteTime": {
     "end_time": "2022-10-04T23:16:22.239357Z",
     "start_time": "2022-10-04T23:16:22.227914Z"
    }
   },
   "outputs": [
    {
     "data": {
      "text/plain": [
       "pymongo.collection.Collection"
      ]
     },
     "execution_count": 35,
     "metadata": {},
     "output_type": "execute_result"
    }
   ],
   "source": [
    "type(col)"
   ]
  },
  {
   "cell_type": "code",
   "execution_count": 36,
   "id": "literary-cholesterol",
   "metadata": {
    "ExecuteTime": {
     "end_time": "2022-10-04T23:17:14.222739Z",
     "start_time": "2022-10-04T23:17:14.191248Z"
    }
   },
   "outputs": [
    {
     "data": {
      "text/plain": [
       "3"
      ]
     },
     "execution_count": 36,
     "metadata": {},
     "output_type": "execute_result"
    }
   ],
   "source": [
    "# Contando os documentos em uma coleção\n",
    "# col.count()\n",
    "col.estimated_document_count()"
   ]
  },
  {
   "cell_type": "code",
   "execution_count": 37,
   "id": "formal-tulsa",
   "metadata": {
    "ExecuteTime": {
     "end_time": "2022-10-04T23:17:41.160991Z",
     "start_time": "2022-10-04T23:17:41.150555Z"
    }
   },
   "outputs": [],
   "source": [
    "# Encontrando um único documento\n",
    "redoc = col.find_one()"
   ]
  },
  {
   "cell_type": "code",
   "execution_count": 38,
   "id": "heard-yorkshire",
   "metadata": {
    "ExecuteTime": {
     "end_time": "2022-10-04T23:17:45.619473Z",
     "start_time": "2022-10-04T23:17:45.606162Z"
    }
   },
   "outputs": [
    {
     "data": {
      "text/plain": [
       "{'_id': ObjectId('633cbd662f7d5ff8c55c7809'),\n",
       " 'titulo': 'MongoDB com Python',\n",
       " 'descricao': 'MongoDB é um Banco de Dados NoSQL',\n",
       " 'by': 'Data Science',\n",
       " 'url': 'https://www.datascience.com',\n",
       " 'tags': ['mongodb', 'database', 'NoSQL'],\n",
       " 'likes': 100}"
      ]
     },
     "execution_count": 38,
     "metadata": {},
     "output_type": "execute_result"
    }
   ],
   "source": [
    "redoc"
   ]
  },
  {
   "cell_type": "code",
   "execution_count": null,
   "id": "touched-insight",
   "metadata": {},
   "outputs": [],
   "source": []
  }
 ],
 "metadata": {
  "hide_input": false,
  "kernelspec": {
   "display_name": "Python 3",
   "language": "python",
   "name": "python3"
  },
  "language_info": {
   "codemirror_mode": {
    "name": "ipython",
    "version": 3
   },
   "file_extension": ".py",
   "mimetype": "text/x-python",
   "name": "python",
   "nbconvert_exporter": "python",
   "pygments_lexer": "ipython3",
   "version": "3.9.2"
  }
 },
 "nbformat": 4,
 "nbformat_minor": 5
}
