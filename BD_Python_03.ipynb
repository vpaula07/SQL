{
 "cells": [
  {
   "cell_type": "markdown",
   "id": "massive-blind",
   "metadata": {},
   "source": [
    "## Leitura de dados"
   ]
  },
  {
   "cell_type": "code",
   "execution_count": 10,
   "id": "divided-fifteen",
   "metadata": {
    "ExecuteTime": {
     "end_time": "2022-09-25T23:08:29.439454Z",
     "start_time": "2022-09-25T23:08:29.430924Z"
    }
   },
   "outputs": [],
   "source": [
    "import sqlite3\n",
    "import random\n",
    "import time\n",
    "import datetime\n",
    "\n",
    "# Criando uma conexão\n",
    "conn = sqlite3.connect('dba.db')\n",
    "\n",
    "# Criando um cursor\n",
    "c = conn.cursor()\n",
    "\n",
    "# Função para criar uma tabela\n",
    "def create_table():\n",
    "    c.execute('CREATE TABLE IF NOT EXISTS produtos(id INTEGER PRIMARY KEY AUTOINCREMENT NOT NULL, date TEXT, '\\\n",
    "             'prod_name TEXT, valor REAL)')\n",
    "\n",
    "# Função para inserir uma linha\n",
    "def data_insert():\n",
    "    c.execute(\"INSERT INTO produtos VALUES('2022-09-09 12:12:46', 'Teclado', 130.00 )\")\n",
    "    conn.commit()\n",
    "    c.close()\n",
    "    conn.close()\n",
    "    \n",
    "# Usando variáveis para inserir dados\n",
    "def data_insert_var():\n",
    "    new_date = datetime.datetime.now()\n",
    "    new_prod_name = 'Monitor'\n",
    "    new_valor = random.randrange(50,100)\n",
    "    c.execute(\"INSERT INTO produtos (date, prod_name, valor) VALUES (?, ?, ?)\", (new_date, new_prod_name, new_valor))\n",
    "    conn.commit()\n",
    "    \n",
    "# Leitura de dados\n",
    "def leitura_todos_dados():\n",
    "    c.execute(\"SELECT * FROM PRODUTOS\")\n",
    "    for linha in c.fetchall():\n",
    "        print(linha)\n",
    "        \n",
    "# Leitura de registros específicos\n",
    "def leitura_registros():\n",
    "    c.execute(\"SELECT * FROM PRODUTOS WHERE valor > 60.00\")\n",
    "    for linha in c.fetchall():\n",
    "        print(linha)\n",
    "        \n",
    "# Leitura de colunas específicas\n",
    "def leitura_colunas():\n",
    "    c.execute(\"SELECT * FROM PRODUTOS\")\n",
    "    for linha in c.fetchall():\n",
    "        print(linha[3])"
   ]
  },
  {
   "cell_type": "code",
   "execution_count": 11,
   "id": "arbitrary-chile",
   "metadata": {
    "ExecuteTime": {
     "end_time": "2022-09-25T23:08:32.675424Z",
     "start_time": "2022-09-25T23:08:32.670387Z"
    },
    "scrolled": true
   },
   "outputs": [
    {
     "name": "stdout",
     "output_type": "stream",
     "text": [
      "(10, '2020-05-02 14:32:11', 'Teclado', 90.0)\n",
      "(11, '2022-09-25 19:48:05.750928', 'Monitor', 97.0)\n",
      "(12, '2022-09-25 19:48:06.842790', 'Monitor', 98.0)\n",
      "(13, '2022-09-25 19:48:07.924209', 'Monitor', 61.0)\n",
      "(14, '2022-09-25 19:48:08.972956', 'Monitor', 56.0)\n",
      "(15, '2022-09-25 19:48:10.019945', 'Monitor', 90.0)\n",
      "(16, '2022-09-25 19:48:11.067499', 'Monitor', 73.0)\n",
      "(17, '2022-09-25 19:48:12.114678', 'Monitor', 66.0)\n",
      "(18, '2022-09-25 19:48:13.164969', 'Monitor', 63.0)\n",
      "(19, '2022-09-25 19:48:14.212713', 'Monitor', 74.0)\n",
      "(20, '2022-09-25 19:48:15.259829', 'Monitor', 83.0)\n"
     ]
    }
   ],
   "source": [
    "# Select nos dados\n",
    "leitura_todos_dados()"
   ]
  },
  {
   "cell_type": "code",
   "execution_count": 12,
   "id": "formed-maker",
   "metadata": {
    "ExecuteTime": {
     "end_time": "2022-09-25T23:08:37.477696Z",
     "start_time": "2022-09-25T23:08:37.466788Z"
    }
   },
   "outputs": [
    {
     "name": "stdout",
     "output_type": "stream",
     "text": [
      "(10, '2020-05-02 14:32:11', 'Teclado', 90.0)\n",
      "(11, '2022-09-25 19:48:05.750928', 'Monitor', 97.0)\n",
      "(12, '2022-09-25 19:48:06.842790', 'Monitor', 98.0)\n",
      "(13, '2022-09-25 19:48:07.924209', 'Monitor', 61.0)\n",
      "(15, '2022-09-25 19:48:10.019945', 'Monitor', 90.0)\n",
      "(16, '2022-09-25 19:48:11.067499', 'Monitor', 73.0)\n",
      "(17, '2022-09-25 19:48:12.114678', 'Monitor', 66.0)\n",
      "(18, '2022-09-25 19:48:13.164969', 'Monitor', 63.0)\n",
      "(19, '2022-09-25 19:48:14.212713', 'Monitor', 74.0)\n",
      "(20, '2022-09-25 19:48:15.259829', 'Monitor', 83.0)\n"
     ]
    }
   ],
   "source": [
    "# Leitura de registros específicos\n",
    "leitura_registros()"
   ]
  },
  {
   "cell_type": "code",
   "execution_count": 13,
   "id": "cheap-force",
   "metadata": {
    "ExecuteTime": {
     "end_time": "2022-09-25T23:09:07.297709Z",
     "start_time": "2022-09-25T23:09:07.290438Z"
    }
   },
   "outputs": [
    {
     "name": "stdout",
     "output_type": "stream",
     "text": [
      "90.0\n",
      "97.0\n",
      "98.0\n",
      "61.0\n",
      "56.0\n",
      "90.0\n",
      "73.0\n",
      "66.0\n",
      "63.0\n",
      "74.0\n",
      "83.0\n"
     ]
    }
   ],
   "source": [
    "# Leitura de colunas específicas\n",
    "leitura_colunas()"
   ]
  },
  {
   "cell_type": "code",
   "execution_count": 4,
   "id": "continuing-effectiveness",
   "metadata": {
    "ExecuteTime": {
     "end_time": "2022-09-25T22:49:08.673869Z",
     "start_time": "2022-09-25T22:49:08.665644Z"
    }
   },
   "outputs": [],
   "source": [
    "# Encerrando a conexão\n",
    "c.close()\n",
    "conn.close()"
   ]
  },
  {
   "cell_type": "code",
   "execution_count": null,
   "id": "curious-testament",
   "metadata": {},
   "outputs": [],
   "source": []
  }
 ],
 "metadata": {
  "hide_input": false,
  "kernelspec": {
   "display_name": "Python 3",
   "language": "python",
   "name": "python3"
  },
  "language_info": {
   "codemirror_mode": {
    "name": "ipython",
    "version": 3
   },
   "file_extension": ".py",
   "mimetype": "text/x-python",
   "name": "python",
   "nbconvert_exporter": "python",
   "pygments_lexer": "ipython3",
   "version": "3.9.2"
  }
 },
 "nbformat": 4,
 "nbformat_minor": 5
}
